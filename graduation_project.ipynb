{
  "cells": [
    {
      "cell_type": "markdown",
      "metadata": {
        "id": "view-in-github",
        "colab_type": "text"
      },
      "source": [
        "<a href=\"https://colab.research.google.com/github/ArwaSaif99/flutter/blob/master/graduation_project.ipynb\" target=\"_parent\"><img src=\"https://colab.research.google.com/assets/colab-badge.svg\" alt=\"Open In Colab\"/></a>"
      ]
    },
    {
      "cell_type": "code",
      "execution_count": 78,
      "metadata": {
        "colab": {
          "base_uri": "https://localhost:8080/",
          "height": 206
        },
        "id": "5VczRVh6WdSc",
        "outputId": "3f4150a7-156c-434e-ee44-b5f88775dd63"
      },
      "outputs": [
        {
          "output_type": "execute_result",
          "data": {
            "text/plain": [
              "       Category                                             Resume\n",
              "0  Data Science  Skills * Programming Languages: Python (pandas...\n",
              "1  Data Science  Education Details \\nMay 2013 to May 2017 B.E  ...\n",
              "2  Data Science  Areas of Interest Deep Learning, Control Syste...\n",
              "3  Data Science  Skills â¢ R â¢ Python â¢ SAP HANA â¢ Table...\n",
              "4  Data Science  Education Details \\n MCA   YMCAUST,  Faridabad..."
            ],
            "text/html": [
              "\n",
              "  <div id=\"df-9f0a792e-be6c-4f0b-9f18-fc6a9c1fd4d1\">\n",
              "    <div class=\"colab-df-container\">\n",
              "      <div>\n",
              "<style scoped>\n",
              "    .dataframe tbody tr th:only-of-type {\n",
              "        vertical-align: middle;\n",
              "    }\n",
              "\n",
              "    .dataframe tbody tr th {\n",
              "        vertical-align: top;\n",
              "    }\n",
              "\n",
              "    .dataframe thead th {\n",
              "        text-align: right;\n",
              "    }\n",
              "</style>\n",
              "<table border=\"1\" class=\"dataframe\">\n",
              "  <thead>\n",
              "    <tr style=\"text-align: right;\">\n",
              "      <th></th>\n",
              "      <th>Category</th>\n",
              "      <th>Resume</th>\n",
              "    </tr>\n",
              "  </thead>\n",
              "  <tbody>\n",
              "    <tr>\n",
              "      <th>0</th>\n",
              "      <td>Data Science</td>\n",
              "      <td>Skills * Programming Languages: Python (pandas...</td>\n",
              "    </tr>\n",
              "    <tr>\n",
              "      <th>1</th>\n",
              "      <td>Data Science</td>\n",
              "      <td>Education Details \\nMay 2013 to May 2017 B.E  ...</td>\n",
              "    </tr>\n",
              "    <tr>\n",
              "      <th>2</th>\n",
              "      <td>Data Science</td>\n",
              "      <td>Areas of Interest Deep Learning, Control Syste...</td>\n",
              "    </tr>\n",
              "    <tr>\n",
              "      <th>3</th>\n",
              "      <td>Data Science</td>\n",
              "      <td>Skills â¢ R â¢ Python â¢ SAP HANA â¢ Table...</td>\n",
              "    </tr>\n",
              "    <tr>\n",
              "      <th>4</th>\n",
              "      <td>Data Science</td>\n",
              "      <td>Education Details \\n MCA   YMCAUST,  Faridabad...</td>\n",
              "    </tr>\n",
              "  </tbody>\n",
              "</table>\n",
              "</div>\n",
              "      <button class=\"colab-df-convert\" onclick=\"convertToInteractive('df-9f0a792e-be6c-4f0b-9f18-fc6a9c1fd4d1')\"\n",
              "              title=\"Convert this dataframe to an interactive table.\"\n",
              "              style=\"display:none;\">\n",
              "        \n",
              "  <svg xmlns=\"http://www.w3.org/2000/svg\" height=\"24px\"viewBox=\"0 0 24 24\"\n",
              "       width=\"24px\">\n",
              "    <path d=\"M0 0h24v24H0V0z\" fill=\"none\"/>\n",
              "    <path d=\"M18.56 5.44l.94 2.06.94-2.06 2.06-.94-2.06-.94-.94-2.06-.94 2.06-2.06.94zm-11 1L8.5 8.5l.94-2.06 2.06-.94-2.06-.94L8.5 2.5l-.94 2.06-2.06.94zm10 10l.94 2.06.94-2.06 2.06-.94-2.06-.94-.94-2.06-.94 2.06-2.06.94z\"/><path d=\"M17.41 7.96l-1.37-1.37c-.4-.4-.92-.59-1.43-.59-.52 0-1.04.2-1.43.59L10.3 9.45l-7.72 7.72c-.78.78-.78 2.05 0 2.83L4 21.41c.39.39.9.59 1.41.59.51 0 1.02-.2 1.41-.59l7.78-7.78 2.81-2.81c.8-.78.8-2.07 0-2.86zM5.41 20L4 18.59l7.72-7.72 1.47 1.35L5.41 20z\"/>\n",
              "  </svg>\n",
              "      </button>\n",
              "      \n",
              "  <style>\n",
              "    .colab-df-container {\n",
              "      display:flex;\n",
              "      flex-wrap:wrap;\n",
              "      gap: 12px;\n",
              "    }\n",
              "\n",
              "    .colab-df-convert {\n",
              "      background-color: #E8F0FE;\n",
              "      border: none;\n",
              "      border-radius: 50%;\n",
              "      cursor: pointer;\n",
              "      display: none;\n",
              "      fill: #1967D2;\n",
              "      height: 32px;\n",
              "      padding: 0 0 0 0;\n",
              "      width: 32px;\n",
              "    }\n",
              "\n",
              "    .colab-df-convert:hover {\n",
              "      background-color: #E2EBFA;\n",
              "      box-shadow: 0px 1px 2px rgba(60, 64, 67, 0.3), 0px 1px 3px 1px rgba(60, 64, 67, 0.15);\n",
              "      fill: #174EA6;\n",
              "    }\n",
              "\n",
              "    [theme=dark] .colab-df-convert {\n",
              "      background-color: #3B4455;\n",
              "      fill: #D2E3FC;\n",
              "    }\n",
              "\n",
              "    [theme=dark] .colab-df-convert:hover {\n",
              "      background-color: #434B5C;\n",
              "      box-shadow: 0px 1px 3px 1px rgba(0, 0, 0, 0.15);\n",
              "      filter: drop-shadow(0px 1px 2px rgba(0, 0, 0, 0.3));\n",
              "      fill: #FFFFFF;\n",
              "    }\n",
              "  </style>\n",
              "\n",
              "      <script>\n",
              "        const buttonEl =\n",
              "          document.querySelector('#df-9f0a792e-be6c-4f0b-9f18-fc6a9c1fd4d1 button.colab-df-convert');\n",
              "        buttonEl.style.display =\n",
              "          google.colab.kernel.accessAllowed ? 'block' : 'none';\n",
              "\n",
              "        async function convertToInteractive(key) {\n",
              "          const element = document.querySelector('#df-9f0a792e-be6c-4f0b-9f18-fc6a9c1fd4d1');\n",
              "          const dataTable =\n",
              "            await google.colab.kernel.invokeFunction('convertToInteractive',\n",
              "                                                     [key], {});\n",
              "          if (!dataTable) return;\n",
              "\n",
              "          const docLinkHtml = 'Like what you see? Visit the ' +\n",
              "            '<a target=\"_blank\" href=https://colab.research.google.com/notebooks/data_table.ipynb>data table notebook</a>'\n",
              "            + ' to learn more about interactive tables.';\n",
              "          element.innerHTML = '';\n",
              "          dataTable['output_type'] = 'display_data';\n",
              "          await google.colab.output.renderOutput(dataTable, element);\n",
              "          const docLink = document.createElement('div');\n",
              "          docLink.innerHTML = docLinkHtml;\n",
              "          element.appendChild(docLink);\n",
              "        }\n",
              "      </script>\n",
              "    </div>\n",
              "  </div>\n",
              "  "
            ]
          },
          "metadata": {},
          "execution_count": 78
        }
      ],
      "source": [
        "import pandas as pd\n",
        "\n",
        "data=pd.read_csv('DataSet.csv')\n",
        "data.head(5)"
      ]
    },
    {
      "cell_type": "markdown",
      "source": [
        "# New section"
      ],
      "metadata": {
        "id": "rDWXtlwhS1cC"
      }
    },
    {
      "cell_type": "code",
      "execution_count": 79,
      "metadata": {
        "id": "VDVdMKh7Wkxt",
        "outputId": "00b03edf-2f9a-4736-e1dd-5af09c6596a7",
        "colab": {
          "base_uri": "https://localhost:8080/"
        }
      },
      "outputs": [
        {
          "output_type": "execute_result",
          "data": {
            "text/plain": [
              "0      Skills Programming Languages Python pandas num...\n",
              "1      Education Details May 2013 to May 2017 B E UIT...\n",
              "2      Areas of Interest Deep Learning Control System...\n",
              "3      Skills     R     Python     SAP HANA     Table...\n",
              "4      Education Details MCA YMCAUST Faridabad Haryan...\n",
              "                             ...                        \n",
              "460    Hobbies     Playing Chess     Solving Rubik s ...\n",
              "461    Skills Strong CS fundamentals and problem solv...\n",
              "462    KEY SKILLS Programing languages C C Python Ape...\n",
              "463    SOFTWARE SKILLS Languages C C java Operating S...\n",
              "464    SKILLS Bitcoin Ethereum Solidity Hyperledger B...\n",
              "Name: clean text, Length: 465, dtype: object"
            ]
          },
          "metadata": {},
          "execution_count": 79
        }
      ],
      "source": [
        "import re\n",
        "\n",
        "def clean(text):\n",
        "    text=re.sub('http\\S+\\s*', ' ',  str(text))\n",
        "    text=re.sub('RT|cc', ' ', str(text))\n",
        "    text=re.sub('#\\S+', '', str(text))\n",
        "    text=re.sub('@\\S+', '', str(text))\n",
        "    text=re.sub('[%s]' % re.escape(\"\"\"!\"#$%&'()*+,-./:;<=>?@[\\]^_`{|}~\"\"\"), ' ', str(text))\n",
        "    text=re.sub('\\s+', ' ', str(text))\n",
        "    text=re.sub(r'[^\\x00-\\x7f]', r' ', str(text))\n",
        "    return text\n",
        "\n",
        "data['clean text']=data.Resume.apply(lambda x: clean(x))\n",
        "data['clean text']\n"
      ]
    },
    {
      "cell_type": "code",
      "execution_count": 80,
      "metadata": {
        "id": "0Kqja2fnZli1"
      },
      "outputs": [],
      "source": [
        "from sklearn.preprocessing import LabelEncoder\n",
        "\n",
        "var=['Category']\n",
        "le=LabelEncoder()\n",
        "\n",
        "for i in var:\n",
        "    data[i]=le.fit_transform(data[i])"
      ]
    },
    {
      "cell_type": "markdown",
      "source": [],
      "metadata": {
        "id": "FjUtDANLbeXD"
      }
    },
    {
      "cell_type": "code",
      "execution_count": 81,
      "metadata": {
        "id": "z2JCjnmZZoZa",
        "colab": {
          "base_uri": "https://localhost:8080/",
          "height": 641
        },
        "outputId": "32a92470-26f4-49fa-bed3-54fc2b9237e7"
      },
      "outputs": [
        {
          "output_type": "execute_result",
          "data": {
            "text/plain": [
              "     Category                                             Resume  \\\n",
              "0           2  Skills * Programming Languages: Python (pandas...   \n",
              "1           2  Education Details \\nMay 2013 to May 2017 B.E  ...   \n",
              "2           2  Areas of Interest Deep Learning, Control Syste...   \n",
              "3           2  Skills â¢ R â¢ Python â¢ SAP HANA â¢ Table...   \n",
              "4           2  Education Details \\n MCA   YMCAUST,  Faridabad...   \n",
              "..        ...                                                ...   \n",
              "460         0  Hobbies â¢ Playing Chess â¢ Solving Rubik's ...   \n",
              "461         0  Skills Strong CS fundamentals and problem solv...   \n",
              "462         0  KEY SKILLS: Programing languages: C, C++, Pyth...   \n",
              "463         0  SOFTWARE SKILLS: Languages: C, C++ & java Oper...   \n",
              "464         0  SKILLS Bitcoin, Ethereum Solidity Hyperledger,...   \n",
              "\n",
              "                                            clean text  \n",
              "0    Skills Programming Languages Python pandas num...  \n",
              "1    Education Details May 2013 to May 2017 B E UIT...  \n",
              "2    Areas of Interest Deep Learning Control System...  \n",
              "3    Skills     R     Python     SAP HANA     Table...  \n",
              "4    Education Details MCA YMCAUST Faridabad Haryan...  \n",
              "..                                                 ...  \n",
              "460  Hobbies     Playing Chess     Solving Rubik s ...  \n",
              "461  Skills Strong CS fundamentals and problem solv...  \n",
              "462  KEY SKILLS Programing languages C C Python Ape...  \n",
              "463  SOFTWARE SKILLS Languages C C java Operating S...  \n",
              "464  SKILLS Bitcoin Ethereum Solidity Hyperledger B...  \n",
              "\n",
              "[465 rows x 3 columns]"
            ],
            "text/html": [
              "\n",
              "  <div id=\"df-e7d644c2-ce0a-4e50-b1b0-69fadbfcf920\">\n",
              "    <div class=\"colab-df-container\">\n",
              "      <div>\n",
              "<style scoped>\n",
              "    .dataframe tbody tr th:only-of-type {\n",
              "        vertical-align: middle;\n",
              "    }\n",
              "\n",
              "    .dataframe tbody tr th {\n",
              "        vertical-align: top;\n",
              "    }\n",
              "\n",
              "    .dataframe thead th {\n",
              "        text-align: right;\n",
              "    }\n",
              "</style>\n",
              "<table border=\"1\" class=\"dataframe\">\n",
              "  <thead>\n",
              "    <tr style=\"text-align: right;\">\n",
              "      <th></th>\n",
              "      <th>Category</th>\n",
              "      <th>Resume</th>\n",
              "      <th>clean text</th>\n",
              "    </tr>\n",
              "  </thead>\n",
              "  <tbody>\n",
              "    <tr>\n",
              "      <th>0</th>\n",
              "      <td>2</td>\n",
              "      <td>Skills * Programming Languages: Python (pandas...</td>\n",
              "      <td>Skills Programming Languages Python pandas num...</td>\n",
              "    </tr>\n",
              "    <tr>\n",
              "      <th>1</th>\n",
              "      <td>2</td>\n",
              "      <td>Education Details \\nMay 2013 to May 2017 B.E  ...</td>\n",
              "      <td>Education Details May 2013 to May 2017 B E UIT...</td>\n",
              "    </tr>\n",
              "    <tr>\n",
              "      <th>2</th>\n",
              "      <td>2</td>\n",
              "      <td>Areas of Interest Deep Learning, Control Syste...</td>\n",
              "      <td>Areas of Interest Deep Learning Control System...</td>\n",
              "    </tr>\n",
              "    <tr>\n",
              "      <th>3</th>\n",
              "      <td>2</td>\n",
              "      <td>Skills â¢ R â¢ Python â¢ SAP HANA â¢ Table...</td>\n",
              "      <td>Skills     R     Python     SAP HANA     Table...</td>\n",
              "    </tr>\n",
              "    <tr>\n",
              "      <th>4</th>\n",
              "      <td>2</td>\n",
              "      <td>Education Details \\n MCA   YMCAUST,  Faridabad...</td>\n",
              "      <td>Education Details MCA YMCAUST Faridabad Haryan...</td>\n",
              "    </tr>\n",
              "    <tr>\n",
              "      <th>...</th>\n",
              "      <td>...</td>\n",
              "      <td>...</td>\n",
              "      <td>...</td>\n",
              "    </tr>\n",
              "    <tr>\n",
              "      <th>460</th>\n",
              "      <td>0</td>\n",
              "      <td>Hobbies â¢ Playing Chess â¢ Solving Rubik's ...</td>\n",
              "      <td>Hobbies     Playing Chess     Solving Rubik s ...</td>\n",
              "    </tr>\n",
              "    <tr>\n",
              "      <th>461</th>\n",
              "      <td>0</td>\n",
              "      <td>Skills Strong CS fundamentals and problem solv...</td>\n",
              "      <td>Skills Strong CS fundamentals and problem solv...</td>\n",
              "    </tr>\n",
              "    <tr>\n",
              "      <th>462</th>\n",
              "      <td>0</td>\n",
              "      <td>KEY SKILLS: Programing languages: C, C++, Pyth...</td>\n",
              "      <td>KEY SKILLS Programing languages C C Python Ape...</td>\n",
              "    </tr>\n",
              "    <tr>\n",
              "      <th>463</th>\n",
              "      <td>0</td>\n",
              "      <td>SOFTWARE SKILLS: Languages: C, C++ &amp; java Oper...</td>\n",
              "      <td>SOFTWARE SKILLS Languages C C java Operating S...</td>\n",
              "    </tr>\n",
              "    <tr>\n",
              "      <th>464</th>\n",
              "      <td>0</td>\n",
              "      <td>SKILLS Bitcoin, Ethereum Solidity Hyperledger,...</td>\n",
              "      <td>SKILLS Bitcoin Ethereum Solidity Hyperledger B...</td>\n",
              "    </tr>\n",
              "  </tbody>\n",
              "</table>\n",
              "<p>465 rows × 3 columns</p>\n",
              "</div>\n",
              "      <button class=\"colab-df-convert\" onclick=\"convertToInteractive('df-e7d644c2-ce0a-4e50-b1b0-69fadbfcf920')\"\n",
              "              title=\"Convert this dataframe to an interactive table.\"\n",
              "              style=\"display:none;\">\n",
              "        \n",
              "  <svg xmlns=\"http://www.w3.org/2000/svg\" height=\"24px\"viewBox=\"0 0 24 24\"\n",
              "       width=\"24px\">\n",
              "    <path d=\"M0 0h24v24H0V0z\" fill=\"none\"/>\n",
              "    <path d=\"M18.56 5.44l.94 2.06.94-2.06 2.06-.94-2.06-.94-.94-2.06-.94 2.06-2.06.94zm-11 1L8.5 8.5l.94-2.06 2.06-.94-2.06-.94L8.5 2.5l-.94 2.06-2.06.94zm10 10l.94 2.06.94-2.06 2.06-.94-2.06-.94-.94-2.06-.94 2.06-2.06.94z\"/><path d=\"M17.41 7.96l-1.37-1.37c-.4-.4-.92-.59-1.43-.59-.52 0-1.04.2-1.43.59L10.3 9.45l-7.72 7.72c-.78.78-.78 2.05 0 2.83L4 21.41c.39.39.9.59 1.41.59.51 0 1.02-.2 1.41-.59l7.78-7.78 2.81-2.81c.8-.78.8-2.07 0-2.86zM5.41 20L4 18.59l7.72-7.72 1.47 1.35L5.41 20z\"/>\n",
              "  </svg>\n",
              "      </button>\n",
              "      \n",
              "  <style>\n",
              "    .colab-df-container {\n",
              "      display:flex;\n",
              "      flex-wrap:wrap;\n",
              "      gap: 12px;\n",
              "    }\n",
              "\n",
              "    .colab-df-convert {\n",
              "      background-color: #E8F0FE;\n",
              "      border: none;\n",
              "      border-radius: 50%;\n",
              "      cursor: pointer;\n",
              "      display: none;\n",
              "      fill: #1967D2;\n",
              "      height: 32px;\n",
              "      padding: 0 0 0 0;\n",
              "      width: 32px;\n",
              "    }\n",
              "\n",
              "    .colab-df-convert:hover {\n",
              "      background-color: #E2EBFA;\n",
              "      box-shadow: 0px 1px 2px rgba(60, 64, 67, 0.3), 0px 1px 3px 1px rgba(60, 64, 67, 0.15);\n",
              "      fill: #174EA6;\n",
              "    }\n",
              "\n",
              "    [theme=dark] .colab-df-convert {\n",
              "      background-color: #3B4455;\n",
              "      fill: #D2E3FC;\n",
              "    }\n",
              "\n",
              "    [theme=dark] .colab-df-convert:hover {\n",
              "      background-color: #434B5C;\n",
              "      box-shadow: 0px 1px 3px 1px rgba(0, 0, 0, 0.15);\n",
              "      filter: drop-shadow(0px 1px 2px rgba(0, 0, 0, 0.3));\n",
              "      fill: #FFFFFF;\n",
              "    }\n",
              "  </style>\n",
              "\n",
              "      <script>\n",
              "        const buttonEl =\n",
              "          document.querySelector('#df-e7d644c2-ce0a-4e50-b1b0-69fadbfcf920 button.colab-df-convert');\n",
              "        buttonEl.style.display =\n",
              "          google.colab.kernel.accessAllowed ? 'block' : 'none';\n",
              "\n",
              "        async function convertToInteractive(key) {\n",
              "          const element = document.querySelector('#df-e7d644c2-ce0a-4e50-b1b0-69fadbfcf920');\n",
              "          const dataTable =\n",
              "            await google.colab.kernel.invokeFunction('convertToInteractive',\n",
              "                                                     [key], {});\n",
              "          if (!dataTable) return;\n",
              "\n",
              "          const docLinkHtml = 'Like what you see? Visit the ' +\n",
              "            '<a target=\"_blank\" href=https://colab.research.google.com/notebooks/data_table.ipynb>data table notebook</a>'\n",
              "            + ' to learn more about interactive tables.';\n",
              "          element.innerHTML = '';\n",
              "          dataTable['output_type'] = 'display_data';\n",
              "          await google.colab.output.renderOutput(dataTable, element);\n",
              "          const docLink = document.createElement('div');\n",
              "          docLink.innerHTML = docLinkHtml;\n",
              "          element.appendChild(docLink);\n",
              "        }\n",
              "      </script>\n",
              "    </div>\n",
              "  </div>\n",
              "  "
            ]
          },
          "metadata": {},
          "execution_count": 81
        }
      ],
      "source": [
        "data"
      ]
    },
    {
      "cell_type": "code",
      "execution_count": 82,
      "metadata": {
        "id": "z6UzROeEaD0h"
      },
      "outputs": [],
      "source": [
        "from sklearn.model_selection import train_test_split\n",
        "from sklearn.feature_extraction.text import TfidfVectorizer\n",
        "from scipy.sparse import hstack\n",
        "\n",
        "text=data['clean text'].values\n",
        "terget=data['Category'].values\n",
        "\n",
        "vect=TfidfVectorizer(\n",
        "    sublinear_tf=True,\n",
        "    stop_words='english',\n",
        "    max_features=400)\n",
        "\n",
        "\n",
        "Word_feature=vect.fit_transform(text)"
      ]
    },
    {
      "cell_type": "code",
      "execution_count": 83,
      "metadata": {
        "id": "q4ukhSKFb-Cx",
        "colab": {
          "base_uri": "https://localhost:8080/"
        },
        "outputId": "91bc4275-d596-4127-a4be-e75787f662c7"
      },
      "outputs": [
        {
          "output_type": "execute_result",
          "data": {
            "text/plain": [
              "<465x400 sparse matrix of type '<class 'numpy.float64'>'\n",
              "\twith 35358 stored elements in Compressed Sparse Row format>"
            ]
          },
          "metadata": {},
          "execution_count": 83
        }
      ],
      "source": [
        "Word_feature\n",
        "#vect.get_feature_names()"
      ]
    },
    {
      "cell_type": "code",
      "execution_count": 84,
      "metadata": {
        "id": "J1nb-8HJcmGH",
        "outputId": "95a5c690-fa1c-491f-91c0-09426f937ba5",
        "colab": {
          "base_uri": "https://localhost:8080/"
        }
      },
      "outputs": [
        {
          "output_type": "stream",
          "name": "stdout",
          "text": [
            "(372, 400)\n",
            "(93, 400)\n"
          ]
        }
      ],
      "source": [
        "x_train, x_test, y_train, y_test=train_test_split(Word_feature, terget, random_state=0, test_size=0.2)\n",
        "print(x_train.shape)\n",
        "print(x_test.shape)"
      ]
    },
    {
      "cell_type": "code",
      "execution_count": 85,
      "metadata": {
        "id": "xVHh9J4hicyw",
        "outputId": "e886fc0f-0ca3-42ca-d0ff-bb2a203598dc",
        "colab": {
          "base_uri": "https://localhost:8080/"
        }
      },
      "outputs": [
        {
          "output_type": "stream",
          "name": "stdout",
          "text": [
            "0.978494623655914\n"
          ]
        }
      ],
      "source": [
        "import sklearn\n",
        "from sklearn.multiclass import OneVsRestClassifier\n",
        "from sklearn.neighbors import KNeighborsClassifier\n",
        "import pickle\n",
        "\n",
        "\n",
        "# train the model\n",
        "\n",
        "model=OneVsRestClassifier(KNeighborsClassifier())\n",
        "model.fit(x_train, y_train)\n",
        "\n",
        "#save the model\n",
        "filename = 'finalized_model.sav'\n",
        "pickle.dump(model, open(filename, 'wb'))\n",
        "\n",
        "#load the model\n",
        "\n",
        "loaded_model = pickle.load(open(filename, 'rb'))\n",
        "result = loaded_model.score(x_test, y_test)\n",
        "print(result)\n"
      ]
    },
    {
      "cell_type": "code",
      "execution_count": 86,
      "metadata": {
        "id": "6R_JLfSDiopH",
        "outputId": "104cb129-d68e-48b3-d0e6-70e06afb47d2",
        "colab": {
          "base_uri": "https://localhost:8080/"
        }
      },
      "outputs": [
        {
          "output_type": "stream",
          "name": "stdout",
          "text": [
            "[ 0  3  7  7  6  2  9  4  4  9  0  3  0  7  6  0  9  7  2  7  7  9  8  4\n",
            "  0  4  3 10  2  2  9  9  4  8  2  9  7 10  6  8  4  4  7  9  9  3  4  9\n",
            " 11  2  5  4  3  6  4 11 11  9  8  8  3  7  0 11  8 11  2 11  7  6 11  7\n",
            "  7  0  6  7  9  7 10  7  5  8  3 11  6  5  0 11  4  4  3 11  7]\n"
          ]
        }
      ],
      "source": [
        "prediction=model.predict(x_test)\n",
        "print(prediction)\n"
      ]
    },
    {
      "cell_type": "code",
      "execution_count": 87,
      "metadata": {
        "colab": {
          "base_uri": "https://localhost:8080/"
        },
        "id": "zmJeTg1miu4k",
        "outputId": "b2904234-627a-4f80-ed62-8de67b0fb954"
      },
      "outputs": [
        {
          "output_type": "stream",
          "name": "stdout",
          "text": [
            "training Score: 0.99\n",
            "test Score: 0.98\n"
          ]
        }
      ],
      "source": [
        "print(\"training Score: {:.2f}\".format(model.score(x_train, y_train)))\n",
        "print(\"test Score: {:.2f}\".format(model.score(x_test, y_test)))"
      ]
    },
    {
      "cell_type": "code",
      "execution_count": 88,
      "metadata": {
        "colab": {
          "base_uri": "https://localhost:8080/"
        },
        "id": "alWJWR9xi8gH",
        "outputId": "648e987c-4b4b-4b0f-b6e2-3b0c928f15d8"
      },
      "outputs": [
        {
          "output_type": "stream",
          "name": "stdout",
          "text": [
            "model report: OneVsRestClassifier(estimator=KNeighborsClassifier()): \n",
            "               precision    recall  f1-score   support\n",
            "\n",
            "           0       1.00      1.00      1.00         8\n",
            "           1       0.00      0.00      0.00         2\n",
            "           2       1.00      1.00      1.00         7\n",
            "           3       1.00      1.00      1.00         8\n",
            "           4       0.83      1.00      0.91        10\n",
            "           5       1.00      1.00      1.00         3\n",
            "           6       1.00      1.00      1.00         7\n",
            "           7       1.00      1.00      1.00        16\n",
            "           8       1.00      1.00      1.00         7\n",
            "           9       1.00      1.00      1.00        12\n",
            "          10       1.00      1.00      1.00         3\n",
            "          11       1.00      1.00      1.00        10\n",
            "\n",
            "    accuracy                           0.98        93\n",
            "   macro avg       0.90      0.92      0.91        93\n",
            "weighted avg       0.96      0.98      0.97        93\n",
            "\n",
            "\n"
          ]
        },
        {
          "output_type": "stream",
          "name": "stderr",
          "text": [
            "/usr/local/lib/python3.7/dist-packages/sklearn/metrics/_classification.py:1318: UndefinedMetricWarning: Precision and F-score are ill-defined and being set to 0.0 in labels with no predicted samples. Use `zero_division` parameter to control this behavior.\n",
            "  _warn_prf(average, modifier, msg_start, len(result))\n",
            "/usr/local/lib/python3.7/dist-packages/sklearn/metrics/_classification.py:1318: UndefinedMetricWarning: Precision and F-score are ill-defined and being set to 0.0 in labels with no predicted samples. Use `zero_division` parameter to control this behavior.\n",
            "  _warn_prf(average, modifier, msg_start, len(result))\n",
            "/usr/local/lib/python3.7/dist-packages/sklearn/metrics/_classification.py:1318: UndefinedMetricWarning: Precision and F-score are ill-defined and being set to 0.0 in labels with no predicted samples. Use `zero_division` parameter to control this behavior.\n",
            "  _warn_prf(average, modifier, msg_start, len(result))\n"
          ]
        }
      ],
      "source": [
        "from sklearn import metrics\n",
        "print(\"model report: %s: \\n %s\\n\" % (model, metrics.classification_report(y_test, prediction)))"
      ]
    },
    {
      "cell_type": "code",
      "execution_count": 90,
      "metadata": {
        "id": "2ohB33A9jB1R",
        "outputId": "7218c583-d98c-4766-811a-c9082f39bffc",
        "colab": {
          "base_uri": "https://localhost:8080/"
        }
      },
      "outputs": [
        {
          "output_type": "stream",
          "name": "stdout",
          "text": [
            "[' Skills Programming Languages Python pandas numpy scipy scikit learn matplotlib Sql Java JavaScript JQuery Machine learning Regression SVM Na  ve Bayes KNN Random Forest Decision Trees Boosting techniques Cluster Analysis Word Embedding Sentiment Analysis Natural Language processing Dimensionality reduction Topic Modelling LDA NMF PCA Neural Nets Database Visualizations Mysql SqlServer Cassandra Hbase ElasticSearch D3 js DC js Plotly kibana matplotlib ggplot Tableau Others Regular Expression HTML CSS Angular 6 Logstash Kafka Python Flask Git Docker computer vision Open CV and understanding of Deep learning Education Details Data Science Assurance Associate Data Science Assurance Associate Ernst Young LLP Skill Details JAVASCRIPT Exprience 24 months jQuery Exprience 24 months Python Exprience 24 monthsCompany Details company Ernst Young LLP description Fraud Investigations and Dispute Services Assurance TECHNOLOGY ASSISTED REVIEW TAR Technology Assisted Review assists in a elerating the review process and run analytics and generate reports Core member of a team helped in developing automated review platform tool from scratch for assisting E discovery domain this tool implements predictive coding and topic modelling by automating reviews resulting in reduced labor costs and time spent during the lawyers review Understand the end to end flow of the solution doing research and development for classification models predictive analysis and mining of the information present in text data Worked on analyzing the outputs and precision monitoring for the entire tool TAR assists in predictive coding topic modelling from the evidence by following EY standards Developed the classifier models in order to identify red flags and fraud related issues Tools Technologies Python scikit learn tfidf word2vec doc2vec cosine similarity Na  ve Bayes LDA NMF for topic modelling Vader and text blob for sentiment analysis Matplot lib Tableau dashboard for reporting MULTIPLE DATA SCIENCE AND ANALYTIC PROJECTS USA CLIENTS TEXT ANALYTICS MOTOR VEHICLE CUSTOMER REVIEW DATA Received customer feedback survey data for past one year Performed sentiment Positive Negative Neutral and time series analysis on customer comments across all 4 categories Created heat map of terms by survey category based on frequency of words Extracted Positive and Negative words across all the Survey categories and plotted Word cloud Created customized tableau dashboards for effective reporting and visualizations CHATBOT Developed a user friendly chatbot for one of our Products which handle simple questions about hours of operation reservation options and so on This chat bot serves entire product related questions Giving overview of tool via QA platform and also give recommendation responses so that user question to build chain of relevant answer This too has intelligence to build the pipeline of questions as per user requirement and asks the relevant recommended questions Tools Technologies Python Natural language processing NLTK spacy topic modelling Sentiment analysis Word Embedding scikit learn JavaScript JQuery SqlServer INFORMATION GOVERNANCE Organizations to make informed decisions about all of the information they store The integrated Information Governance portfolio synthesizes intelligence across unstructured data sources and facilitates action to ensure organizations are best positioned to counter information risk Scan data from multiple sources of formats and parse different file formats extract Meta data information push results for indexing elastic search and created customized interactive dashboards using kibana Preforming ROT Analysis on the data which give information of data which helps identify content that is either Redundant Outdated or Trivial Preforming full text search analysis on elastic search with predefined methods which can tag as PII personally identifiable information social security numbers addresses names etc which frequently targeted during cyber attacks Tools Technologies Python Flask Elastic Search Kibana FRAUD ANALYTIC PLATFORM Fraud Analytics and investigative platform to review all red flag cases     FAP is a Fraud Analytics and investigative platform with inbuilt case manager and suite of Analytics for various ERP systems It can be used by clients to interrogate their A ounting systems for identifying the anomalies which can be indicators of fraud by running advanced analytics Tools Technologies HTML JavaScript SqlServer JQuery CSS Bootstrap Node js D3 js DC js '\n",
            " ' Technical Skills Web Technologies Angular JS HTML5 CSS3 SASS Bootstrap Jquery Javascript Software Brackets Visual Studio Photoshop Visual Studio Code Education Details January 2015 B E CSE Nagpur Maharashtra G H Raisoni College of Engineering October 2009 Photography Competition Click Nagpur Maharashtra Maharashtra State Board College Magazine OCEAN Web Designer Web Designer Trust Systems and Software Skill Details PHOTOSHOP Exprience 28 months BOOTSTRAP Exprience 6 months HTML5 Exprience 6 months JAVASCRIPT Exprience 6 months CSS3 Exprience Less than 1 year months Angular 4 Exprience Less than 1 year monthsCompany Details company Trust Systems and Software description Projects worked on 1 TrustBank CBS Project Description TrustBank CBS is a core banking solution by Trust Systems Roles and Responsibility     Renovated complete UI to make it more modern user friendly maintainable and optimised for bank use     Shared the UI structure and guidelines to be incorporated with development team of around 50 members     Achieved the target of project completion in given time frame     Made required graphics for the project in photoshop 2 Loan Bazar Loan Appraisal Project Description Loan Bazar is a MVC based application dedicated to creating and managing loan applications The goal of this application is to streamline the process of loan application and integrate with existing CBS Roles and Responsibility     Designed and developed modern and responsive UI of entire application and achieved the target in given time frame     Made required graphics for the project in photoshop 3 Capital Security Bond Application Project Description Capital Security Bond Application is a MVC based application which provided an online platform to purchase gold bond Roles and Responsibility     Designed and developed modern and responsive UI of entire application and achieved the target in given time frame     Made required graphics for the project in photoshop 4 SoftGST Project Description SoftGST Web Based Application is an ASP application to every tax payers and its vendors for generating the GSTR returns on the basis of sales purchase data additionally the application can do the reconciliation of GSTR 2 A with purchase register Roles and Responsibility     Designed and developed the UI of Dashboard 5 Trust Analytica Project Description Trust Analytika is the mobile web app that shows bank asset liability income expenses Roles and Responsibility     Designed and developed the landing page of the application     Supported the developers in UI implementation 6 Website s Project Name 1 TSR Technology Services 2 Vidarbha Merchants Urban Co Op Bank 3 GISSS 4 Softtrust USA Roles and Responsibility     Communicated with clients to understand their requirement     Made mocks for the website     Designed and developed complete website and hosted them in stipulated time company www jalloshband com description Project Name 1 Jallosh Band www jalloshband com 2 An Endeavor Foundation Roles and Responsibility     Communicated with clients to understand their requirement     Made mocks for the website     Designed and developed complete website and hosted them in stipulated time company 10MagicalFingers description National and international client interaction     Management of digital data ']\n",
            "[4 6]\n"
          ]
        }
      ],
      "source": [
        "\n",
        "\n",
        "#read csv\n",
        "v=pd.read_csv('Resume - Sheet1.csv')\n",
        "\n",
        "\n",
        "#clean data\n",
        "def clean(text):\n",
        "    text=re.sub('http\\S+\\s*', ' ',  str(text))\n",
        "    text=re.sub('RT|cc', ' ', str(text))\n",
        "    text=re.sub('#\\S+', '', str(text))\n",
        "    text=re.sub('@\\S+', '', str(text))\n",
        "    \n",
        "    text=re.sub('[%s]' % re.escape(\"\"\"!\"#$%&'()*+,-./:;<=>?@[\\]^_`{|}~\"\"\"), ' ', str(text))\n",
        "    text=re.sub('\\s+', ' ', str(text))\n",
        "    text=re.sub(r'[^\\x00-\\x7f]', r' ', str(text))\n",
        "    return text\n",
        "\n",
        "v['clean text']=v.Resume.apply(lambda x: clean(x))\n",
        "v['clean text']\n",
        "text=v['clean text'].values\n",
        "print(text)\n",
        "\n",
        "vect=TfidfVectorizer(\n",
        "    sublinear_tf=True,\n",
        "    stop_words='english',\n",
        "    max_features=400)\n",
        "Word_feature=vect.fit_transform(text)\n",
        "Word_feature\n",
        "new_output=loaded_model.predict(Word_feature)\n",
        "print(new_output)\n",
        "\n"
      ]
    }
  ],
  "metadata": {
    "colab": {
      "provenance": [],
      "include_colab_link": true
    },
    "kernelspec": {
      "display_name": "Python 3",
      "name": "python3"
    },
    "language_info": {
      "name": "python"
    }
  },
  "nbformat": 4,
  "nbformat_minor": 0
}